{
 "cells": [
  {
   "attachments": {},
   "cell_type": "markdown",
   "metadata": {},
   "source": [
    "# Bayesian Statistic A/B Testing\n",
    "\n",
    "This dataset comes from https://www.kaggle.com/datasets/zhangluyuan/ab-testing?select=ab_data.csv in conjunction with the Medium article https://medium.com/towards-data-science/ab-testing-with-python-e5964dd66143\n",
    "\n",
    "The author sets up a scenario where the client is an e-commerce company with a current conversion rate of 13% and they are looking to improve their conversion by 2% to 15%. "
   ]
  },
  {
   "cell_type": "code",
   "execution_count": 41,
   "metadata": {},
   "outputs": [],
   "source": [
    "import numpy as np\n",
    "import pandas as pd\n",
    "import scipy.stats as stats\n",
    "import statsmodels.stats.api as sms\n",
    "import matplotlib as mpl\n",
    "import matplotlib.pyplot as plt\n",
    "import seaborn as sns\n",
    "from math import ceil\n",
    "from statsmodels.stats.proportion import proportions_ztest, proportion_confint\n",
    "\n",
    "# Some plot styling preferences\n",
    "plt.style.use('seaborn-whitegrid')\n",
    "font = {'weight': 'bold',\n",
    "        'size': 14}\n",
    "\n",
    "mpl.rc('font', **font)"
   ]
  },
  {
   "cell_type": "code",
   "execution_count": 3,
   "metadata": {},
   "outputs": [
    {
     "data": {
      "text/html": [
       "<div>\n",
       "<style scoped>\n",
       "    .dataframe tbody tr th:only-of-type {\n",
       "        vertical-align: middle;\n",
       "    }\n",
       "\n",
       "    .dataframe tbody tr th {\n",
       "        vertical-align: top;\n",
       "    }\n",
       "\n",
       "    .dataframe thead th {\n",
       "        text-align: right;\n",
       "    }\n",
       "</style>\n",
       "<table border=\"1\" class=\"dataframe\">\n",
       "  <thead>\n",
       "    <tr style=\"text-align: right;\">\n",
       "      <th></th>\n",
       "      <th>user_id</th>\n",
       "      <th>timestamp</th>\n",
       "      <th>group</th>\n",
       "      <th>landing_page</th>\n",
       "      <th>converted</th>\n",
       "    </tr>\n",
       "  </thead>\n",
       "  <tbody>\n",
       "    <tr>\n",
       "      <th>0</th>\n",
       "      <td>851104</td>\n",
       "      <td>2017-01-21 22:11:48.556739</td>\n",
       "      <td>control</td>\n",
       "      <td>old_page</td>\n",
       "      <td>0</td>\n",
       "    </tr>\n",
       "    <tr>\n",
       "      <th>1</th>\n",
       "      <td>804228</td>\n",
       "      <td>2017-01-12 08:01:45.159739</td>\n",
       "      <td>control</td>\n",
       "      <td>old_page</td>\n",
       "      <td>0</td>\n",
       "    </tr>\n",
       "    <tr>\n",
       "      <th>2</th>\n",
       "      <td>661590</td>\n",
       "      <td>2017-01-11 16:55:06.154213</td>\n",
       "      <td>treatment</td>\n",
       "      <td>new_page</td>\n",
       "      <td>0</td>\n",
       "    </tr>\n",
       "    <tr>\n",
       "      <th>3</th>\n",
       "      <td>853541</td>\n",
       "      <td>2017-01-08 18:28:03.143765</td>\n",
       "      <td>treatment</td>\n",
       "      <td>new_page</td>\n",
       "      <td>0</td>\n",
       "    </tr>\n",
       "    <tr>\n",
       "      <th>4</th>\n",
       "      <td>864975</td>\n",
       "      <td>2017-01-21 01:52:26.210827</td>\n",
       "      <td>control</td>\n",
       "      <td>old_page</td>\n",
       "      <td>1</td>\n",
       "    </tr>\n",
       "  </tbody>\n",
       "</table>\n",
       "</div>"
      ],
      "text/plain": [
       "   user_id                   timestamp      group landing_page  converted\n",
       "0   851104  2017-01-21 22:11:48.556739    control     old_page          0\n",
       "1   804228  2017-01-12 08:01:45.159739    control     old_page          0\n",
       "2   661590  2017-01-11 16:55:06.154213  treatment     new_page          0\n",
       "3   853541  2017-01-08 18:28:03.143765  treatment     new_page          0\n",
       "4   864975  2017-01-21 01:52:26.210827    control     old_page          1"
      ]
     },
     "execution_count": 3,
     "metadata": {},
     "output_type": "execute_result"
    }
   ],
   "source": [
    "ab = pd.read_csv('ab_data_zhang.csv')\n",
    "ab.head()\n"
   ]
  },
  {
   "cell_type": "code",
   "execution_count": 4,
   "metadata": {},
   "outputs": [
    {
     "data": {
      "text/plain": [
       "294478"
      ]
     },
     "execution_count": 4,
     "metadata": {},
     "output_type": "execute_result"
    }
   ],
   "source": [
    "len(ab)"
   ]
  },
  {
   "attachments": {},
   "cell_type": "markdown",
   "metadata": {},
   "source": [
    "## T-Test Setup\n",
    "\n",
    "Our control group will be the old setup, and the treatment group the new setup. Since the new setup has the potential to perform better or worse than the old setup, and we are not using an inherently asymmetric distribution, a Two-Tailed T-Test is the most appropriate test for this evaluation. \n",
    "\n",
    "The Null Hypothesis will suggest that there is no difference between the conversion rates of the treament and that of the control. \n",
    "\n",
    "**Establishing Parmeters**\n",
    "p = control group conversion rate\n",
    "po = treatment group conversion rate\n",
    "\n",
    "Ho: p = po, the null hypothesis states that there is no difference between the conversion rates \n",
    "Ha: p <> po, the alternative hypothesis states that there is a difference between the conversion rates. \n",
    "\n",
    "\n",
    "alpha = 0.05, per convention, this gives the probability of a Type I Error (false positive)\n",
    "beta = 0.8, per convention, this gives the probability of a Type II Error (false negative)\n",
    "\n",
    "--- \n",
    "### Power Analysis\n",
    "Starting with Effect Size"
   ]
  },
  {
   "cell_type": "code",
   "execution_count": 6,
   "metadata": {},
   "outputs": [
    {
     "data": {
      "text/plain": [
       "-0.0576728617308947"
      ]
     },
     "execution_count": 6,
     "metadata": {},
     "output_type": "execute_result"
    }
   ],
   "source": [
    "effect_size = sms.proportion_effectsize(0.13, 0.15)\n",
    "effect_size"
   ]
  },
  {
   "cell_type": "code",
   "execution_count": 8,
   "metadata": {},
   "outputs": [
    {
     "name": "stdout",
     "output_type": "stream",
     "text": [
      "There are 4720 observations in each group to be 80% confident that there is a 2% difference between the two groups.\n"
     ]
    }
   ],
   "source": [
    "required_n = sms.NormalIndPower().solve_power(\n",
    "    effect_size,\n",
    "    power=0.8,\n",
    "    alpha=0.05,\n",
    "    ratio=1   # This provides the ratio of the number values in sample 2 to those in sample 1. A ratio of 1 means there is the same number of each.  \n",
    ")\n",
    "\n",
    "required_n = ceil(required_n)  # ceil is the ceiling function; it rounds up to the next whole number\n",
    "print(f'There are {required_n} observations in each group to be 80% confident that there is a 2% difference between the two groups.')\n"
   ]
  },
  {
   "attachments": {},
   "cell_type": "markdown",
   "metadata": {},
   "source": [
    "## Cleaning the Data\n",
    "Addressing the following concerns: \n",
    "- Null values\n",
    "- Erroneous labeling with control/treatment and the incorrect page\n",
    "- Multiple user entries\n",
    "We need to be sure that there aren't any null values present in the necessary rows. Additionally, we need to ensure that the control group values are indeed the old page, and the treatment values are all referencing the new page. Finally, I want to ensure that we don't have users with multiple entries. I'm saving this for last, because it's possible that a user may have entered information incorrectly and then made a correction, so to preserve as much data as possible, I will remove the erroneous data instead of that entire user's duplicates prior to determining duplicates. While both will result in the removal of erroneous and duplicate entries, more good data is lost when the multiple users are removed first. "
   ]
  },
  {
   "cell_type": "code",
   "execution_count": 11,
   "metadata": {},
   "outputs": [
    {
     "name": "stdout",
     "output_type": "stream",
     "text": [
      "Groups: 0, Landing Page: 0, Converted: 0\n"
     ]
    }
   ],
   "source": [
    "print(f'Groups: {sum(ab.group.isna())}, Landing Page: {sum(ab.landing_page.isna())}, Converted: {sum(ab.converted.isna())}')\n"
   ]
  },
  {
   "attachments": {},
   "cell_type": "markdown",
   "metadata": {},
   "source": [
    "None of the groups have null values present. I can use a cross-tab to check if there are mixed values. We expect there to be 0 old_page in the treatment and 0 new_page in the control"
   ]
  },
  {
   "cell_type": "code",
   "execution_count": 12,
   "metadata": {},
   "outputs": [
    {
     "data": {
      "text/html": [
       "<div>\n",
       "<style scoped>\n",
       "    .dataframe tbody tr th:only-of-type {\n",
       "        vertical-align: middle;\n",
       "    }\n",
       "\n",
       "    .dataframe tbody tr th {\n",
       "        vertical-align: top;\n",
       "    }\n",
       "\n",
       "    .dataframe thead th {\n",
       "        text-align: right;\n",
       "    }\n",
       "</style>\n",
       "<table border=\"1\" class=\"dataframe\">\n",
       "  <thead>\n",
       "    <tr style=\"text-align: right;\">\n",
       "      <th>landing_page</th>\n",
       "      <th>new_page</th>\n",
       "      <th>old_page</th>\n",
       "    </tr>\n",
       "    <tr>\n",
       "      <th>group</th>\n",
       "      <th></th>\n",
       "      <th></th>\n",
       "    </tr>\n",
       "  </thead>\n",
       "  <tbody>\n",
       "    <tr>\n",
       "      <th>control</th>\n",
       "      <td>1928</td>\n",
       "      <td>145274</td>\n",
       "    </tr>\n",
       "    <tr>\n",
       "      <th>treatment</th>\n",
       "      <td>145311</td>\n",
       "      <td>1965</td>\n",
       "    </tr>\n",
       "  </tbody>\n",
       "</table>\n",
       "</div>"
      ],
      "text/plain": [
       "landing_page  new_page  old_page\n",
       "group                           \n",
       "control           1928    145274\n",
       "treatment       145311      1965"
      ]
     },
     "execution_count": 12,
     "metadata": {},
     "output_type": "execute_result"
    }
   ],
   "source": [
    "pd.crosstab(ab['group'], ab['landing_page'])\n"
   ]
  },
  {
   "attachments": {},
   "cell_type": "markdown",
   "metadata": {},
   "source": [
    "This is a problem! Since we cannot determine whether the mismarking was of the page or the treatment, we will remove these values from the dataset prior to sampling. I can only do this because the dataset is substantially larger than the amount of data we're removing. "
   ]
  },
  {
   "cell_type": "code",
   "execution_count": 14,
   "metadata": {},
   "outputs": [
    {
     "name": "stdout",
     "output_type": "stream",
     "text": [
      "The number of mismarked samples represent 1.32% of the total dataset\n"
     ]
    }
   ],
   "source": [
    "print(f'The number of mismarked samples represent {round((1928 + 1965)/len(ab) * 100, 2)}% of the total dataset')\n"
   ]
  },
  {
   "cell_type": "code",
   "execution_count": 24,
   "metadata": {},
   "outputs": [],
   "source": [
    "ab = ab.loc[((ab.group == 'control') & (ab.landing_page == 'old_page')) | ((ab.group == 'treatment') & (ab.landing_page == 'new_page'))]\n"
   ]
  },
  {
   "cell_type": "code",
   "execution_count": 25,
   "metadata": {},
   "outputs": [
    {
     "data": {
      "text/html": [
       "<div>\n",
       "<style scoped>\n",
       "    .dataframe tbody tr th:only-of-type {\n",
       "        vertical-align: middle;\n",
       "    }\n",
       "\n",
       "    .dataframe tbody tr th {\n",
       "        vertical-align: top;\n",
       "    }\n",
       "\n",
       "    .dataframe thead th {\n",
       "        text-align: right;\n",
       "    }\n",
       "</style>\n",
       "<table border=\"1\" class=\"dataframe\">\n",
       "  <thead>\n",
       "    <tr style=\"text-align: right;\">\n",
       "      <th>landing_page</th>\n",
       "      <th>new_page</th>\n",
       "      <th>old_page</th>\n",
       "    </tr>\n",
       "    <tr>\n",
       "      <th>group</th>\n",
       "      <th></th>\n",
       "      <th></th>\n",
       "    </tr>\n",
       "  </thead>\n",
       "  <tbody>\n",
       "    <tr>\n",
       "      <th>control</th>\n",
       "      <td>0</td>\n",
       "      <td>145274</td>\n",
       "    </tr>\n",
       "    <tr>\n",
       "      <th>treatment</th>\n",
       "      <td>145311</td>\n",
       "      <td>0</td>\n",
       "    </tr>\n",
       "  </tbody>\n",
       "</table>\n",
       "</div>"
      ],
      "text/plain": [
       "landing_page  new_page  old_page\n",
       "group                           \n",
       "control              0    145274\n",
       "treatment       145311         0"
      ]
     },
     "execution_count": 25,
     "metadata": {},
     "output_type": "execute_result"
    }
   ],
   "source": [
    "pd.crosstab(ab['group'], ab['landing_page'])\n"
   ]
  },
  {
   "attachments": {},
   "cell_type": "markdown",
   "metadata": {},
   "source": [
    "This verifies that the anomalies have been removed. Additionally, we need to verify that no users were counted multiple times. "
   ]
  },
  {
   "cell_type": "code",
   "execution_count": 26,
   "metadata": {},
   "outputs": [
    {
     "name": "stdout",
     "output_type": "stream",
     "text": [
      "There are 1 users that appear multiple times in the dataset, representing 0.0% of the dataset\n"
     ]
    }
   ],
   "source": [
    "user_counts = ab['user_id'].value_counts(ascending=False)\n",
    "multi_users = user_counts[user_counts > 1].count()\n",
    "\n",
    "print(\n",
    "    f'There are {multi_users} users that appear multiple times in the dataset, representing {round(multi_users/len(ab)* 100, 2)}% of the dataset')\n"
   ]
  },
  {
   "attachments": {},
   "cell_type": "markdown",
   "metadata": {},
   "source": [
    "The first time I ran this before removing the mismarked users above, and there was a suspiciously similar number of mismarked rows. At this point, there is only 1, which will not substantially impact the dataset. But to keep the cleaning applicable for potential future data entries, I'll set it up programmatically instead of just removing the single row."
   ]
  },
  {
   "cell_type": "code",
   "execution_count": 27,
   "metadata": {},
   "outputs": [
    {
     "name": "stdout",
     "output_type": "stream",
     "text": [
      "The updated dataset now has 290583 entries\n"
     ]
    }
   ],
   "source": [
    "users_to_drop = user_counts[user_counts > 1].index\n",
    "\n",
    "ab = ab[~ab['user_id'].isin(users_to_drop)]\n",
    "print(f'The updated dataset now has {ab.shape[0]} entries')\n"
   ]
  },
  {
   "attachments": {},
   "cell_type": "markdown",
   "metadata": {},
   "source": [
    "### Sampling\n",
    "The power analysis suggested that each group have a sample size of 4720. I'm just using the pandas df.sample to pull samples here since we're not creating any kind of fancy train/test sets for machine learning. After creating the samples, we need to concatenate them into a new dataframe, which I will call ab_sampled."
   ]
  },
  {
   "cell_type": "code",
   "execution_count": 29,
   "metadata": {},
   "outputs": [],
   "source": [
    "random_state=22\n",
    "\n",
    "control_sample = ab[ab['group'] == 'control'].sample(\n",
    "    n=required_n, random_state=random_state)\n",
    "\n",
    "treatment_sample = ab[ab['group'] == 'treatment'].sample(\n",
    "    n=required_n, random_state=random_state)\n",
    "\n",
    "ab_sampled = pd.concat([control_sample, treatment_sample], axis=0)\n",
    "ab_sampled.reset_index(drop=True, inplace=True)\n"
   ]
  },
  {
   "cell_type": "code",
   "execution_count": 30,
   "metadata": {},
   "outputs": [
    {
     "data": {
      "text/html": [
       "<div>\n",
       "<style scoped>\n",
       "    .dataframe tbody tr th:only-of-type {\n",
       "        vertical-align: middle;\n",
       "    }\n",
       "\n",
       "    .dataframe tbody tr th {\n",
       "        vertical-align: top;\n",
       "    }\n",
       "\n",
       "    .dataframe thead th {\n",
       "        text-align: right;\n",
       "    }\n",
       "</style>\n",
       "<table border=\"1\" class=\"dataframe\">\n",
       "  <thead>\n",
       "    <tr style=\"text-align: right;\">\n",
       "      <th></th>\n",
       "      <th>user_id</th>\n",
       "      <th>timestamp</th>\n",
       "      <th>group</th>\n",
       "      <th>landing_page</th>\n",
       "      <th>converted</th>\n",
       "    </tr>\n",
       "  </thead>\n",
       "  <tbody>\n",
       "    <tr>\n",
       "      <th>0</th>\n",
       "      <td>864622</td>\n",
       "      <td>2017-01-07 19:35:55.115584</td>\n",
       "      <td>control</td>\n",
       "      <td>old_page</td>\n",
       "      <td>0</td>\n",
       "    </tr>\n",
       "    <tr>\n",
       "      <th>1</th>\n",
       "      <td>931017</td>\n",
       "      <td>2017-01-20 22:24:11.980654</td>\n",
       "      <td>control</td>\n",
       "      <td>old_page</td>\n",
       "      <td>0</td>\n",
       "    </tr>\n",
       "    <tr>\n",
       "      <th>2</th>\n",
       "      <td>822759</td>\n",
       "      <td>2017-01-10 19:00:45.471182</td>\n",
       "      <td>control</td>\n",
       "      <td>old_page</td>\n",
       "      <td>0</td>\n",
       "    </tr>\n",
       "    <tr>\n",
       "      <th>3</th>\n",
       "      <td>715765</td>\n",
       "      <td>2017-01-19 23:16:23.269389</td>\n",
       "      <td>control</td>\n",
       "      <td>old_page</td>\n",
       "      <td>0</td>\n",
       "    </tr>\n",
       "    <tr>\n",
       "      <th>4</th>\n",
       "      <td>666686</td>\n",
       "      <td>2017-01-23 00:08:30.152180</td>\n",
       "      <td>control</td>\n",
       "      <td>old_page</td>\n",
       "      <td>0</td>\n",
       "    </tr>\n",
       "    <tr>\n",
       "      <th>...</th>\n",
       "      <td>...</td>\n",
       "      <td>...</td>\n",
       "      <td>...</td>\n",
       "      <td>...</td>\n",
       "      <td>...</td>\n",
       "    </tr>\n",
       "    <tr>\n",
       "      <th>9435</th>\n",
       "      <td>688017</td>\n",
       "      <td>2017-01-12 11:50:30.520706</td>\n",
       "      <td>treatment</td>\n",
       "      <td>new_page</td>\n",
       "      <td>0</td>\n",
       "    </tr>\n",
       "    <tr>\n",
       "      <th>9436</th>\n",
       "      <td>793361</td>\n",
       "      <td>2017-01-15 17:14:40.878898</td>\n",
       "      <td>treatment</td>\n",
       "      <td>new_page</td>\n",
       "      <td>0</td>\n",
       "    </tr>\n",
       "    <tr>\n",
       "      <th>9437</th>\n",
       "      <td>643157</td>\n",
       "      <td>2017-01-04 02:55:40.819424</td>\n",
       "      <td>treatment</td>\n",
       "      <td>new_page</td>\n",
       "      <td>0</td>\n",
       "    </tr>\n",
       "    <tr>\n",
       "      <th>9438</th>\n",
       "      <td>695345</td>\n",
       "      <td>2017-01-13 20:57:14.879484</td>\n",
       "      <td>treatment</td>\n",
       "      <td>new_page</td>\n",
       "      <td>0</td>\n",
       "    </tr>\n",
       "    <tr>\n",
       "      <th>9439</th>\n",
       "      <td>896118</td>\n",
       "      <td>2017-01-06 12:39:53.472660</td>\n",
       "      <td>treatment</td>\n",
       "      <td>new_page</td>\n",
       "      <td>0</td>\n",
       "    </tr>\n",
       "  </tbody>\n",
       "</table>\n",
       "<p>9440 rows × 5 columns</p>\n",
       "</div>"
      ],
      "text/plain": [
       "      user_id                   timestamp      group landing_page  converted\n",
       "0      864622  2017-01-07 19:35:55.115584    control     old_page          0\n",
       "1      931017  2017-01-20 22:24:11.980654    control     old_page          0\n",
       "2      822759  2017-01-10 19:00:45.471182    control     old_page          0\n",
       "3      715765  2017-01-19 23:16:23.269389    control     old_page          0\n",
       "4      666686  2017-01-23 00:08:30.152180    control     old_page          0\n",
       "...       ...                         ...        ...          ...        ...\n",
       "9435   688017  2017-01-12 11:50:30.520706  treatment     new_page          0\n",
       "9436   793361  2017-01-15 17:14:40.878898  treatment     new_page          0\n",
       "9437   643157  2017-01-04 02:55:40.819424  treatment     new_page          0\n",
       "9438   695345  2017-01-13 20:57:14.879484  treatment     new_page          0\n",
       "9439   896118  2017-01-06 12:39:53.472660  treatment     new_page          0\n",
       "\n",
       "[9440 rows x 5 columns]"
      ]
     },
     "execution_count": 30,
     "metadata": {},
     "output_type": "execute_result"
    }
   ],
   "source": [
    "ab_sampled"
   ]
  },
  {
   "cell_type": "code",
   "execution_count": 31,
   "metadata": {},
   "outputs": [
    {
     "name": "stdout",
     "output_type": "stream",
     "text": [
      "<class 'pandas.core.frame.DataFrame'>\n",
      "RangeIndex: 9440 entries, 0 to 9439\n",
      "Data columns (total 5 columns):\n",
      " #   Column        Non-Null Count  Dtype \n",
      "---  ------        --------------  ----- \n",
      " 0   user_id       9440 non-null   int64 \n",
      " 1   timestamp     9440 non-null   object\n",
      " 2   group         9440 non-null   object\n",
      " 3   landing_page  9440 non-null   object\n",
      " 4   converted     9440 non-null   int64 \n",
      "dtypes: int64(2), object(3)\n",
      "memory usage: 368.9+ KB\n"
     ]
    }
   ],
   "source": [
    "ab_sampled.info()"
   ]
  },
  {
   "cell_type": "code",
   "execution_count": 33,
   "metadata": {},
   "outputs": [
    {
     "data": {
      "text/plain": [
       "control      4720\n",
       "treatment    4720\n",
       "Name: group, dtype: int64"
      ]
     },
     "execution_count": 33,
     "metadata": {},
     "output_type": "execute_result"
    }
   ],
   "source": [
    "ab_sampled['group'].value_counts()"
   ]
  },
  {
   "attachments": {},
   "cell_type": "markdown",
   "metadata": {},
   "source": [
    "We have now verified that there are still no nulls, and that we have the expected 4720 of treatment and control in our new dataframe."
   ]
  },
  {
   "cell_type": "code",
   "execution_count": 35,
   "metadata": {},
   "outputs": [
    {
     "data": {
      "text/html": [
       "<style type=\"text/css\">\n",
       "</style>\n",
       "<table id=\"T_931fd\">\n",
       "  <thead>\n",
       "    <tr>\n",
       "      <th class=\"blank level0\" >&nbsp;</th>\n",
       "      <th id=\"T_931fd_level0_col0\" class=\"col_heading level0 col0\" >conversion_rate</th>\n",
       "      <th id=\"T_931fd_level0_col1\" class=\"col_heading level0 col1\" >std_deviation</th>\n",
       "      <th id=\"T_931fd_level0_col2\" class=\"col_heading level0 col2\" >std_error</th>\n",
       "    </tr>\n",
       "    <tr>\n",
       "      <th class=\"index_name level0\" >group</th>\n",
       "      <th class=\"blank col0\" >&nbsp;</th>\n",
       "      <th class=\"blank col1\" >&nbsp;</th>\n",
       "      <th class=\"blank col2\" >&nbsp;</th>\n",
       "    </tr>\n",
       "  </thead>\n",
       "  <tbody>\n",
       "    <tr>\n",
       "      <th id=\"T_931fd_level0_row0\" class=\"row_heading level0 row0\" >control</th>\n",
       "      <td id=\"T_931fd_row0_col0\" class=\"data row0 col0\" >0.120</td>\n",
       "      <td id=\"T_931fd_row0_col1\" class=\"data row0 col1\" >0.325</td>\n",
       "      <td id=\"T_931fd_row0_col2\" class=\"data row0 col2\" >0.005</td>\n",
       "    </tr>\n",
       "    <tr>\n",
       "      <th id=\"T_931fd_level0_row1\" class=\"row_heading level0 row1\" >treatment</th>\n",
       "      <td id=\"T_931fd_row1_col0\" class=\"data row1 col0\" >0.121</td>\n",
       "      <td id=\"T_931fd_row1_col1\" class=\"data row1 col1\" >0.327</td>\n",
       "      <td id=\"T_931fd_row1_col2\" class=\"data row1 col2\" >0.005</td>\n",
       "    </tr>\n",
       "  </tbody>\n",
       "</table>\n"
      ],
      "text/plain": [
       "<pandas.io.formats.style.Styler at 0x14be79eb7c0>"
      ]
     },
     "execution_count": 35,
     "metadata": {},
     "output_type": "execute_result"
    }
   ],
   "source": [
    "conversion_rates = ab_sampled.groupby('group')['converted']\n",
    "\n",
    "\n",
    "# Std. deviation of the proportion\n",
    "def std_p(x): return np.std(x, ddof=0)\n",
    "# Std. error of the proportion (std / sqrt(n))\n",
    "def se_p(x): return stats.sem(x, ddof=0)\n",
    "\n",
    "\n",
    "conversion_rates = conversion_rates.agg([np.mean, std_p, se_p])\n",
    "conversion_rates.columns = ['conversion_rate', 'std_deviation', 'std_error']\n",
    "\n",
    "\n",
    "conversion_rates.style.format('{:.3f}')\n"
   ]
  },
  {
   "cell_type": "code",
   "execution_count": 40,
   "metadata": {},
   "outputs": [
    {
     "data": {
      "text/plain": [
       "Text(0, 0.5, 'Converted (proportion)')"
      ]
     },
     "execution_count": 40,
     "metadata": {},
     "output_type": "execute_result"
    },
    {
     "data": {
      "image/png": "[encoded data removed]",
      "text/plain": [
       "<Figure size 576x432 with 1 Axes>"
      ]
     },
     "metadata": {},
     "output_type": "display_data"
    }
   ],
   "source": [
    "plt.figure(figsize=(8, 6))\n",
    "\n",
    "sns.barplot(x=ab_sampled['group'], y=ab_sampled['converted'], ci=False)\n",
    "\n",
    "plt.ylim(0, 0.17)\n",
    "plt.title('Conversion rate by group', pad=20)\n",
    "plt.xlabel('Group', labelpad=15)\n",
    "plt.ylabel('Converted (proportion)', labelpad=15)\n"
   ]
  },
  {
   "attachments": {},
   "cell_type": "markdown",
   "metadata": {},
   "source": [
    "## Results\n",
    "Well this is fun! Either our stakeholders were overly optimistic or the random sampling somehow provided a full percentage lower than the reported 13% conversion of the control. While the treatment did perform a tiny bit better, we'll have to see whether the 0.1% difference is significant. I'm holding my breath.\n",
    "\n",
    "This is where I'll be using the proportions Z-test and confidence interval. "
   ]
  },
  {
   "cell_type": "code",
   "execution_count": 42,
   "metadata": {},
   "outputs": [],
   "source": [
    "control_results = ab_sampled[ab_sampled['group'] == 'control']['converted']\n",
    "treatment_results = ab_sampled[ab_sampled['group'] == 'treatment']['converted']\n"
   ]
  },
  {
   "cell_type": "code",
   "execution_count": 43,
   "metadata": {},
   "outputs": [
    {
     "name": "stdout",
     "output_type": "stream",
     "text": [
      "z statistic: -0.16\n",
      "p-value: 0.875\n",
      "ci 95% for control group: [0.111, 0.130]\n",
      "ci 95% for treatment group: [0.112, 0.131]\n"
     ]
    }
   ],
   "source": [
    "n_con = control_results.count()\n",
    "n_treat = treatment_results.count()\n",
    "successes = [control_results.sum(), treatment_results.sum()]\n",
    "nobs = [n_con, n_treat]\n",
    "\n",
    "z_stat, pval = proportions_ztest(successes, nobs=nobs)\n",
    "(lower_con, lower_treat), (upper_con, upper_treat) = proportion_confint(\n",
    "    successes, nobs=nobs, alpha=0.05)\n",
    "\n",
    "print(f'z statistic: {z_stat:.2f}')\n",
    "print(f'p-value: {pval:.3f}')\n",
    "print(f'ci 95% for control group: [{lower_con:.3f}, {upper_con:.3f}]')\n",
    "print(f'ci 95% for treatment group: [{lower_treat:.3f}, {upper_treat:.3f}]')\n"
   ]
  },
  {
   "attachments": {},
   "cell_type": "markdown",
   "metadata": {},
   "source": [
    "## Conclusions\n",
    "Did I mention the overly optimistic stakeholder? Perhaps the data they sampled just happened to be at the absolute top of the confidence interval, as this shows us that we are 95% confident that the true mean of the control group conversion rate lies between 11.1% and 13%, inclusive, and for our treatment group, between 11.2% and 13.1%. Needless to say, the p-value of 0.875 is not unexpected, nor is it significant, drastically failing to meet our 0.05 alpha parameter. \n",
    "\n",
    "Thus, we confirm our Null Hypothesis, Ho, that there is no significant difference between the conversion rates of our new landing page and the old landing page. "
   ]
  }
 ],
 "metadata": {
  "kernelspec": {
   "display_name": "PythonData",
   "language": "python",
   "name": "python3"
  },
  "language_info": {
   "codemirror_mode": {
    "name": "ipython",
    "version": 3
   },
   "file_extension": ".py",
   "mimetype": "text/x-python",
   "name": "python",
   "nbconvert_exporter": "python",
   "pygments_lexer": "ipython3",
   "version": "3.9.12"
  },
  "orig_nbformat": 4
 },
 "nbformat": 4,
 "nbformat_minor": 2
}

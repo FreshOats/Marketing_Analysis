{
 "cells": [
  {
   "attachments": {},
   "cell_type": "markdown",
   "metadata": {},
   "source": [
    "# Bayesian Statistic A/B Testing\n",
    "\n",
    "This dataset comes from https://www.kaggle.com/datasets/farhadzeynalli/online-advertising-effectiveness-study-ab-testing\n",
    "The exploratory analysis can be found in the AB_Test_EDA.ipynb file\n",
    "\n",
    "We are starting with 20,000 users who were either exposed to the Ads or PSA in a 60:40 split, respectively. \n",
    "The data were collected for the frequencies, days within a month, and times of day, and number of ads the users were exposed to. \n",
    "The result is whether they made a purchase or not, though there is currently no conversion rate calculated. \n",
    "\n",
    "Before doing this, we should determine a priors for each group.\n",
    "Since the data provided didn't include any insight as to what the product is or what industry it is involved in, the cross-market conversion rate for products is somewhere between 3 and 10 percent. Without any information, I want to ensure that I'm using a weak prior, so as not to strongly influence the outcomes, but at the same time I want to used a somewhat informed prior, since 50% conversion seems highly unlikely, especially if the company is launching an ad campaign to further drive sales. \n",
    "\n",
    "At this time, I am going to use Beta(5,95), setting the mean at 0.05, and a wide range of possible alternatives. "
   ]
  },
  {
   "cell_type": "code",
   "execution_count": 1,
   "metadata": {
    "vscode": {
     "languageId": "r"
    }
   },
   "outputs": [],
   "source": [
    "ab <- read.csv('online_ad_AB.csv')"
   ]
  },
  {
   "cell_type": "code",
   "execution_count": 4,
   "metadata": {
    "vscode": {
     "languageId": "r"
    }
   },
   "outputs": [
    {
     "data": {
      "text/html": [
       "<table>\n",
       "<thead><tr><th scope=col>customerID</th><th scope=col>test.group</th><th scope=col>made_purchase</th><th scope=col>days_with_most_add</th><th scope=col>peak.ad.hours</th><th scope=col>ad_count</th></tr></thead>\n",
       "<tbody>\n",
       "\t<tr><td>1    </td><td>ad   </td><td>FALSE</td><td>24   </td><td>20   </td><td>5    </td></tr>\n",
       "\t<tr><td>2    </td><td>psa  </td><td>FALSE</td><td>21   </td><td>16   </td><td>9    </td></tr>\n",
       "\t<tr><td>3    </td><td>psa  </td><td>FALSE</td><td> 1   </td><td>18   </td><td>8    </td></tr>\n",
       "\t<tr><td>4    </td><td>ad   </td><td>FALSE</td><td>20   </td><td>23   </td><td>7    </td></tr>\n",
       "\t<tr><td>5    </td><td>ad   </td><td>FALSE</td><td> 3   </td><td>13   </td><td>5    </td></tr>\n",
       "\t<tr><td>6    </td><td>ad   </td><td>FALSE</td><td>13   </td><td>22   </td><td>7    </td></tr>\n",
       "</tbody>\n",
       "</table>\n"
      ],
      "text/latex": [
       "\\begin{tabular}{r|llllll}\n",
       " customerID & test.group & made\\_purchase & days\\_with\\_most\\_add & peak.ad.hours & ad\\_count\\\\\n",
       "\\hline\n",
       "\t 1     & ad    & FALSE & 24    & 20    & 5    \\\\\n",
       "\t 2     & psa   & FALSE & 21    & 16    & 9    \\\\\n",
       "\t 3     & psa   & FALSE &  1    & 18    & 8    \\\\\n",
       "\t 4     & ad    & FALSE & 20    & 23    & 7    \\\\\n",
       "\t 5     & ad    & FALSE &  3    & 13    & 5    \\\\\n",
       "\t 6     & ad    & FALSE & 13    & 22    & 7    \\\\\n",
       "\\end{tabular}\n"
      ],
      "text/markdown": [
       "\n",
       "| customerID | test.group | made_purchase | days_with_most_add | peak.ad.hours | ad_count |\n",
       "|---|---|---|---|---|---|\n",
       "| 1     | ad    | FALSE | 24    | 20    | 5     |\n",
       "| 2     | psa   | FALSE | 21    | 16    | 9     |\n",
       "| 3     | psa   | FALSE |  1    | 18    | 8     |\n",
       "| 4     | ad    | FALSE | 20    | 23    | 7     |\n",
       "| 5     | ad    | FALSE |  3    | 13    | 5     |\n",
       "| 6     | ad    | FALSE | 13    | 22    | 7     |\n",
       "\n"
      ],
      "text/plain": [
       "  customerID test.group made_purchase days_with_most_add peak.ad.hours ad_count\n",
       "1 1          ad         FALSE         24                 20            5       \n",
       "2 2          psa        FALSE         21                 16            9       \n",
       "3 3          psa        FALSE          1                 18            8       \n",
       "4 4          ad         FALSE         20                 23            7       \n",
       "5 5          ad         FALSE          3                 13            5       \n",
       "6 6          ad         FALSE         13                 22            7       "
      ]
     },
     "metadata": {},
     "output_type": "display_data"
    }
   ],
   "source": [
    "head(ab)"
   ]
  },
  {
   "attachments": {},
   "cell_type": "markdown",
   "metadata": {},
   "source": [
    "I need to separate the test groups so that I can count and calculate the conversion rates"
   ]
  },
  {
   "cell_type": "code",
   "execution_count": 7,
   "metadata": {
    "vscode": {
     "languageId": "r"
    }
   },
   "outputs": [],
   "source": [
    "ad <- ab[ab$test.group == \"ad\", ]\n",
    "psa <- ab[ab$test.group == \"psa\", ]"
   ]
  },
  {
   "attachments": {},
   "cell_type": "markdown",
   "metadata": {},
   "source": [
    "To get the conversion rates for each of them, I need to look at the number of customers that yielded a TRUE in made_purchase out of the total number of cutomers from that subset. There were 20000 customers sampled with a 60:40 split, which the following should verify.\n",
    "\n",
    "## PSA"
   ]
  },
  {
   "cell_type": "code",
   "execution_count": 11,
   "metadata": {
    "vscode": {
     "languageId": "r"
    }
   },
   "outputs": [
    {
     "data": {
      "text/html": [
       "<table>\n",
       "<thead><tr><th></th><th scope=col>customerID</th><th scope=col>test.group</th><th scope=col>made_purchase</th><th scope=col>days_with_most_add</th><th scope=col>peak.ad.hours</th><th scope=col>ad_count</th></tr></thead>\n",
       "<tbody>\n",
       "\t<tr><th scope=row>2</th><td> 2   </td><td>psa  </td><td>FALSE</td><td>21   </td><td>16   </td><td> 9   </td></tr>\n",
       "\t<tr><th scope=row>3</th><td> 3   </td><td>psa  </td><td>FALSE</td><td> 1   </td><td>18   </td><td> 8   </td></tr>\n",
       "\t<tr><th scope=row>8</th><td> 8   </td><td>psa  </td><td>FALSE</td><td> 6   </td><td>22   </td><td>10   </td></tr>\n",
       "\t<tr><th scope=row>9</th><td> 9   </td><td>psa  </td><td>FALSE</td><td> 6   </td><td>15   </td><td> 7   </td></tr>\n",
       "\t<tr><th scope=row>10</th><td>10   </td><td>psa  </td><td>FALSE</td><td> 2   </td><td>19   </td><td> 5   </td></tr>\n",
       "\t<tr><th scope=row>12</th><td>12   </td><td>psa  </td><td>FALSE</td><td> 6   </td><td>16   </td><td> 8   </td></tr>\n",
       "</tbody>\n",
       "</table>\n"
      ],
      "text/latex": [
       "\\begin{tabular}{r|llllll}\n",
       "  & customerID & test.group & made\\_purchase & days\\_with\\_most\\_add & peak.ad.hours & ad\\_count\\\\\n",
       "\\hline\n",
       "\t2 &  2    & psa   & FALSE & 21    & 16    &  9   \\\\\n",
       "\t3 &  3    & psa   & FALSE &  1    & 18    &  8   \\\\\n",
       "\t8 &  8    & psa   & FALSE &  6    & 22    & 10   \\\\\n",
       "\t9 &  9    & psa   & FALSE &  6    & 15    &  7   \\\\\n",
       "\t10 & 10    & psa   & FALSE &  2    & 19    &  5   \\\\\n",
       "\t12 & 12    & psa   & FALSE &  6    & 16    &  8   \\\\\n",
       "\\end{tabular}\n"
      ],
      "text/markdown": [
       "\n",
       "| <!--/--> | customerID | test.group | made_purchase | days_with_most_add | peak.ad.hours | ad_count |\n",
       "|---|---|---|---|---|---|---|\n",
       "| 2 |  2    | psa   | FALSE | 21    | 16    |  9    |\n",
       "| 3 |  3    | psa   | FALSE |  1    | 18    |  8    |\n",
       "| 8 |  8    | psa   | FALSE |  6    | 22    | 10    |\n",
       "| 9 |  9    | psa   | FALSE |  6    | 15    |  7    |\n",
       "| 10 | 10    | psa   | FALSE |  2    | 19    |  5    |\n",
       "| 12 | 12    | psa   | FALSE |  6    | 16    |  8    |\n",
       "\n"
      ],
      "text/plain": [
       "   customerID test.group made_purchase days_with_most_add peak.ad.hours\n",
       "2   2         psa        FALSE         21                 16           \n",
       "3   3         psa        FALSE          1                 18           \n",
       "8   8         psa        FALSE          6                 22           \n",
       "9   9         psa        FALSE          6                 15           \n",
       "10 10         psa        FALSE          2                 19           \n",
       "12 12         psa        FALSE          6                 16           \n",
       "   ad_count\n",
       "2   9      \n",
       "3   8      \n",
       "8  10      \n",
       "9   7      \n",
       "10  5      \n",
       "12  8      "
      ]
     },
     "metadata": {},
     "output_type": "display_data"
    }
   ],
   "source": [
    "head(psa)"
   ]
  },
  {
   "cell_type": "code",
   "execution_count": 35,
   "metadata": {
    "vscode": {
     "languageId": "r"
    }
   },
   "outputs": [],
   "source": [
    "total_psa <- nrow(psa)"
   ]
  },
  {
   "cell_type": "code",
   "execution_count": 34,
   "metadata": {
    "vscode": {
     "languageId": "r"
    }
   },
   "outputs": [],
   "source": [
    "purchases_psa <- nrow(psa[psa$made_purchase == 'TRUE', ])"
   ]
  },
  {
   "cell_type": "code",
   "execution_count": 49,
   "metadata": {
    "vscode": {
     "languageId": "r"
    }
   },
   "outputs": [],
   "source": [
    "conversion_psa <- round(purchases_psa / total_psa, 4)"
   ]
  },
  {
   "attachments": {},
   "cell_type": "markdown",
   "metadata": {},
   "source": [
    "## Ad"
   ]
  },
  {
   "cell_type": "code",
   "execution_count": 38,
   "metadata": {
    "vscode": {
     "languageId": "r"
    }
   },
   "outputs": [
    {
     "data": {
      "text/html": [
       "<table>\n",
       "<thead><tr><th></th><th scope=col>customerID</th><th scope=col>test.group</th><th scope=col>made_purchase</th><th scope=col>days_with_most_add</th><th scope=col>peak.ad.hours</th><th scope=col>ad_count</th></tr></thead>\n",
       "<tbody>\n",
       "\t<tr><th scope=row>1</th><td> 1   </td><td>ad   </td><td>FALSE</td><td>24   </td><td>20   </td><td> 5   </td></tr>\n",
       "\t<tr><th scope=row>4</th><td> 4   </td><td>ad   </td><td>FALSE</td><td>20   </td><td>23   </td><td> 7   </td></tr>\n",
       "\t<tr><th scope=row>5</th><td> 5   </td><td>ad   </td><td>FALSE</td><td> 3   </td><td>13   </td><td> 5   </td></tr>\n",
       "\t<tr><th scope=row>6</th><td> 6   </td><td>ad   </td><td>FALSE</td><td>13   </td><td>22   </td><td> 7   </td></tr>\n",
       "\t<tr><th scope=row>7</th><td> 7   </td><td>ad   </td><td>FALSE</td><td> 7   </td><td>19   </td><td> 6   </td></tr>\n",
       "\t<tr><th scope=row>11</th><td>11   </td><td>ad   </td><td>FALSE</td><td>16   </td><td>21   </td><td>10   </td></tr>\n",
       "</tbody>\n",
       "</table>\n"
      ],
      "text/latex": [
       "\\begin{tabular}{r|llllll}\n",
       "  & customerID & test.group & made\\_purchase & days\\_with\\_most\\_add & peak.ad.hours & ad\\_count\\\\\n",
       "\\hline\n",
       "\t1 &  1    & ad    & FALSE & 24    & 20    &  5   \\\\\n",
       "\t4 &  4    & ad    & FALSE & 20    & 23    &  7   \\\\\n",
       "\t5 &  5    & ad    & FALSE &  3    & 13    &  5   \\\\\n",
       "\t6 &  6    & ad    & FALSE & 13    & 22    &  7   \\\\\n",
       "\t7 &  7    & ad    & FALSE &  7    & 19    &  6   \\\\\n",
       "\t11 & 11    & ad    & FALSE & 16    & 21    & 10   \\\\\n",
       "\\end{tabular}\n"
      ],
      "text/markdown": [
       "\n",
       "| <!--/--> | customerID | test.group | made_purchase | days_with_most_add | peak.ad.hours | ad_count |\n",
       "|---|---|---|---|---|---|---|\n",
       "| 1 |  1    | ad    | FALSE | 24    | 20    |  5    |\n",
       "| 4 |  4    | ad    | FALSE | 20    | 23    |  7    |\n",
       "| 5 |  5    | ad    | FALSE |  3    | 13    |  5    |\n",
       "| 6 |  6    | ad    | FALSE | 13    | 22    |  7    |\n",
       "| 7 |  7    | ad    | FALSE |  7    | 19    |  6    |\n",
       "| 11 | 11    | ad    | FALSE | 16    | 21    | 10    |\n",
       "\n"
      ],
      "text/plain": [
       "   customerID test.group made_purchase days_with_most_add peak.ad.hours\n",
       "1   1         ad         FALSE         24                 20           \n",
       "4   4         ad         FALSE         20                 23           \n",
       "5   5         ad         FALSE          3                 13           \n",
       "6   6         ad         FALSE         13                 22           \n",
       "7   7         ad         FALSE          7                 19           \n",
       "11 11         ad         FALSE         16                 21           \n",
       "   ad_count\n",
       "1   5      \n",
       "4   7      \n",
       "5   5      \n",
       "6   7      \n",
       "7   6      \n",
       "11 10      "
      ]
     },
     "metadata": {},
     "output_type": "display_data"
    }
   ],
   "source": [
    "head(ad)"
   ]
  },
  {
   "cell_type": "code",
   "execution_count": 40,
   "metadata": {
    "vscode": {
     "languageId": "r"
    }
   },
   "outputs": [],
   "source": [
    "total_ad <- nrow(ad)"
   ]
  },
  {
   "cell_type": "code",
   "execution_count": 41,
   "metadata": {
    "vscode": {
     "languageId": "r"
    }
   },
   "outputs": [],
   "source": [
    "purchases_ad <- nrow(ad[ad$made_purchase == 'TRUE', ])"
   ]
  },
  {
   "cell_type": "code",
   "execution_count": 47,
   "metadata": {
    "vscode": {
     "languageId": "r"
    }
   },
   "outputs": [],
   "source": [
    "conversion_ad <- round(purchases_ad / total_ad, 4)"
   ]
  },
  {
   "attachments": {},
   "cell_type": "markdown",
   "metadata": {},
   "source": [
    "Now to show the results in a table: "
   ]
  },
  {
   "cell_type": "code",
   "execution_count": 55,
   "metadata": {
    "vscode": {
     "languageId": "r"
    }
   },
   "outputs": [],
   "source": [
    "Collected <- matrix(c(purchases_psa, total_psa-purchases_psa, conversion_psa, purchases_ad, total_ad-purchases_ad, conversion_ad), ncol = 3, byrow = TRUE)\n",
    "colnames(Collected) <- c(\"Purchased\", \"No_Purchase\", \"Observed_Conversion\")\n",
    "rownames(Collected) <- c(\"PSA\", \"Ad\")\n",
    "Collected <- as.data.frame(Collected)"
   ]
  },
  {
   "cell_type": "code",
   "execution_count": 56,
   "metadata": {
    "vscode": {
     "languageId": "r"
    }
   },
   "outputs": [
    {
     "data": {
      "text/html": [
       "<table>\n",
       "<thead><tr><th></th><th scope=col>Purchased</th><th scope=col>No_Purchase</th><th scope=col>Observed_Conversion</th></tr></thead>\n",
       "<tbody>\n",
       "\t<tr><th scope=row>PSA</th><td>257   </td><td> 7690 </td><td>0.0323</td></tr>\n",
       "\t<tr><th scope=row>Ad</th><td>803   </td><td>11250 </td><td>0.0666</td></tr>\n",
       "</tbody>\n",
       "</table>\n"
      ],
      "text/latex": [
       "\\begin{tabular}{r|lll}\n",
       "  & Purchased & No\\_Purchase & Observed\\_Conversion\\\\\n",
       "\\hline\n",
       "\tPSA & 257    &  7690  & 0.0323\\\\\n",
       "\tAd & 803    & 11250  & 0.0666\\\\\n",
       "\\end{tabular}\n"
      ],
      "text/markdown": [
       "\n",
       "| <!--/--> | Purchased | No_Purchase | Observed_Conversion |\n",
       "|---|---|---|---|\n",
       "| PSA | 257    |  7690  | 0.0323 |\n",
       "| Ad | 803    | 11250  | 0.0666 |\n",
       "\n"
      ],
      "text/plain": [
       "    Purchased No_Purchase Observed_Conversion\n",
       "PSA 257        7690       0.0323             \n",
       "Ad  803       11250       0.0666             "
      ]
     },
     "metadata": {},
     "output_type": "display_data"
    }
   ],
   "source": [
    "Collected"
   ]
  },
  {
   "cell_type": "code",
   "execution_count": 78,
   "metadata": {
    "vscode": {
     "languageId": "r"
    }
   },
   "outputs": [],
   "source": [
    "n.trials <- 100000\n",
    "prior.alpha <- 5\n",
    "prior.beta <- 95\n"
   ]
  },
  {
   "cell_type": "code",
   "execution_count": 75,
   "metadata": {
    "vscode": {
     "languageId": "r"
    }
   },
   "outputs": [],
   "source": [
    "a.samples <- rbeta(n.trials, 257 + prior.alpha, 7690 + prior.beta)\n",
    "b.samples <- rbeta(n.trials, 803 + prior.alpha, 11250 + prior.beta)"
   ]
  },
  {
   "cell_type": "code",
   "execution_count": 76,
   "metadata": {
    "vscode": {
     "languageId": "r"
    }
   },
   "outputs": [],
   "source": [
    "p.b_superior <- sum(b.samples > a.samples)/n.trials"
   ]
  },
  {
   "cell_type": "code",
   "execution_count": 77,
   "metadata": {
    "vscode": {
     "languageId": "r"
    }
   },
   "outputs": [
    {
     "data": {
      "text/html": [
       "1"
      ],
      "text/latex": [
       "1"
      ],
      "text/markdown": [
       "1"
      ],
      "text/plain": [
       "[1] 1"
      ]
     },
     "metadata": {},
     "output_type": "display_data"
    }
   ],
   "source": [
    "p.b_superior"
   ]
  }
 ],
 "metadata": {
  "kernelspec": {
   "display_name": "R",
   "language": "R",
   "name": "ir"
  },
  "language_info": {
   "codemirror_mode": "r",
   "file_extension": ".r",
   "mimetype": "text/x-r-source",
   "name": "R",
   "pygments_lexer": "r",
   "version": "3.6.1"
  },
  "orig_nbformat": 4
 },
 "nbformat": 4,
 "nbformat_minor": 2
}

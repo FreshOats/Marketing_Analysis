{
 "cells": [
  {
   "attachments": {},
   "cell_type": "markdown",
   "metadata": {},
   "source": [
    "# Bayesian Statistic A/B Testing\n",
    "\n",
    "This dataset comes from https://www.kaggle.com/datasets/farhadzeynalli/online-advertising-effectiveness-study-ab-testing\n",
    "The exploratory analysis can be found in the AB_Test_EDA.ipynb file\n",
    "\n",
    "We are starting with 20,000 users who were either exposed to the PSA or Ads in a 60:40 split. \n",
    "The data were collected for the frequencies, days within a month, and times of day, and number of ads the users were exposed to. \n",
    "The result is whether they made a purchase or not, though there is currently no conversion rate calculated. \n",
    "\n",
    "Before doing this, we should determine a priors for each group.\n",
    "Since the data provided didn't include any insight as to what the product is or what industry it is involved in, the cross-market conversion rate for products is somewhere between 3 and 10 percent. Without any information, I want to ensure that I'm using a weak prior, so as not to strongly influence the outcomes, but at the same time I want to used a somewhat informed prior, since 50% conversion seems highly unlikely, especially if the company is launching an ad campaign to further drive sales. \n",
    "\n",
    "At this time, I am going to use Beta(1,9), setting the mean at 0.1, and a wide range of possible alternatives. "
   ]
  },
  {
   "cell_type": "code",
   "execution_count": null,
   "metadata": {},
   "outputs": [],
   "source": []
  }
 ],
 "metadata": {
  "language_info": {
   "name": "python"
  },
  "orig_nbformat": 4
 },
 "nbformat": 4,
 "nbformat_minor": 2
}

{
 "cells": [
  {
   "attachments": {},
   "cell_type": "markdown",
   "metadata": {},
   "source": [
    "# A/B Testing with T-Test\n",
    "\n",
    "This dataset comes from https://www.kaggle.com/datasets/farhadzeynalli/online-advertising-effectiveness-study-ab-testing\n",
    "The exploratory analysis can be found in the AB_Test_EDA.ipynb file\n",
    "\n",
    "**Background**\n",
    "A large company with a substantial user base plans to increase sales through advertisement on its website. However, they are undecided about whether the ads increase sales or not. In order to determine whether this is the case, 20,000 customers were subjected to A/B testing for 31 days. \n",
    "\n",
    "Each customer was assigned a unique identifier, and the groups were split in a 60:40 ratio, with the larger group seeing the new advertisement and the smaller group seeing a public service announcement (psa) in its place. The outcome measured was whether the client made a purchase, delivered as a boolean statement. Additional parameters and metrics collected included the day of the month the user saw the most ads, the hour of the day the user saw the most oads, and the total number of ads seen by each user. \n",
    "\n",
    "The company has contracted the analysis out with the above information. \n",
    "\n",
    "**Follow-up**\n",
    "The analysis prompt of whether to run the ad was poorly-defined, so the following questions were posed to the project manager: \n",
    "*Critical Questions*\n",
    "1. Is the PSA currently running, or is this also a new addition to the campaign? \n",
    "    *I need to know whether this is truly a control group, or if we're testing two new products compared to one another.* \n",
    "2. What is your current conversion rate? \n",
    "3. What is the minimum percentage increase in conversion that you would need to take action on moving forward with the campaign?\n",
    "    *This would be critical prior to collecting the data to ensure enough people were sampled, but at this point, we can only verify that we have enough to identify this with an appropriate confidence level*  \n",
    "\n",
    "*Additional Questions*\n",
    "4. Are you looking at insight into which day or days of the week to run the campaign, or is this irrelevant?\n",
    "    If so, what month-year was the 31-day test performed? \n",
    "5. Are you trying to target a certain demographic to boost sales during certain times of day?\n",
    "6. Do you want to know how many ads may yield different results? \n",
    "    *In other words, we are reframing the question of whether ads drive conversion to how many ads are needed to increase conversion if at all.* \n",
    "\n",
    "\n",
    "**Responses**\n",
    "1. Since this is run on the company's own website, the PSA is currently a placeholder sale prices of certain products. It is in the same format as the rest of the webpage, and doesn't particularly stand out. The new ad would replace the PSA, showing a featured product linking to a page with sale prices. \n",
    "    *The PSA is truly a control group*\n",
    "2. The metrics I've been provided suggest the current conversion is around 3 or 4 percent. We're really hoping to bump it up to 7 or 8 percent. \n",
    "3. We'd like to see a 3% to 4% increase in sales, but we'll continue with the ad campaign with at least a 2% increase. \n",
    "4. Right now we're running the ad on our own website, but we'd like to see metrics on that for potential ad campaigns on different sites.\n",
    "6. Yes - what we would like to see is if the number of times the client visited the website correlates with purchases, so what we would like to know is \n",
    "    Was the number of visits on the page with either format correlated with conversion? \n",
    "    Was the number of visits on the page with the PSA correlated with conversion? \n",
    "    Was the number of visits on the page with the Ad correlated with conversion? \n",
    "    Is there a difference between the number of visits with the PSA and number of visits with the Ad? \n",
    "\n",
    "\n",
    "---\n",
    "## Analytical Preparation\n",
    "We can define the control and treatment groups for the study as the PSA and ad, respectively. It's also important to define the metric that we are comparing, and here is is the conversion rate. Since the conversion rate is a quantitative measure, a T-Test is an appropriate statistical test to evaluate whether there was a significant difference between the means of the control and treatment, and since there is the potential for the treatment to have either an increased or decreased mean with respect to the control, a Two-Tailed T-Test is the more appropriate. \n",
    "\n",
    "H<sub>o</sub>:  Null Hypothesis \n",
    "H<sub>a</sub>:  Alternative Hypothesis\n",
    "p:              Control Group Conversion Rate (PSA)\n",
    "p<sub>o</sub>:  Treatment Group Conversion Rate (Ad)\n",
    "\n",
    "**Null Hypothesis**\n",
    "\n",
    "H<sub>o</sub>: p = p<sub>o</sub>\n",
    "There will be no difference between the conversion rates of the control (PSA) and the treamtent (Ad)\n",
    "\n",
    "**Alternative Hypothesis**\n",
    "\n",
    "H<sub>a</sub>: p $\\not=$ p<sub>o</sub>\n",
    "There will be a significant difference between the conversion rates of the control (PSA) and the treament (Ad)\n",
    "\n",
    "**Significance and Power**\n",
    "\n",
    "$\\alpha$ = 0.05\n",
    "$\\beta$ = 0.80\n",
    "\n",
    "Per convention, $\\alpha$ was set to 5%, giving the probability of a Type I Error (false positive). A value is considered significantly different if and only if the p-value is under $\\alpha$, reducing the chance of the finding of being a false positive to under 5%. \n",
    "Also per convention, $\\beta$ was set to 80%, giving the probability of a Type II Error (false Negative). This is used in determining the likelihood of testing a true effect if there is one. This will be used in the power analysis to verify that the minimum sample size required to achieve the desired significance level, effect size, and statistical power. \n",
    "\n",
    "---\n",
    "## Experimental Preparation\n",
    "\n",
    "Typically, a Power Analysis is done prior to implementing a study and collecting survey information. The client has already implemented and collected survey data, and they have not provided us with an exact current conversion rate. What we will need to calculate for this analysis includes the effect size, statistical power, alpha, and the ratio of the number of values in the treatment group to those in the control group. For this we will go with the low end of their predicted existing conversion rate of 3%, and the minumum change in the range of 2%, ending with a 5% outcome. The smaller the difference between the two means, the more observations must be collected to be confident of a true difference between means not due to random sampling error.  "
   ]
  },
  {
   "cell_type": "code",
   "execution_count": 5,
   "metadata": {},
   "outputs": [],
   "source": [
    "# Dependencies\n",
    "import numpy as np\n",
    "import pandas as pd\n",
    "import scipy.stats as stats\n",
    "import statsmodels.stats.api as sms\n",
    "import matplotlib as mpl\n",
    "import matplotlib.pyplot as plt\n",
    "import seaborn as sns\n",
    "from math import ceil\n",
    "from statsmodels.stats.proportion import proportions_ztest, proportion_confint\n",
    "\n",
    "# Some plot styling preferences\n",
    "plt.style.use('seaborn-whitegrid')\n",
    "font = {'weight': 'bold',\n",
    "        'size': 14}\n",
    "\n",
    "mpl.rc('font', **font)\n",
    "\n",
    "random_state = 621"
   ]
  },
  {
   "attachments": {},
   "cell_type": "markdown",
   "metadata": {},
   "source": [
    "## Power Analysis"
   ]
  },
  {
   "cell_type": "code",
   "execution_count": 19,
   "metadata": {},
   "outputs": [
    {
     "data": {
      "text/plain": [
       "-0.10286079052330155"
      ]
     },
     "execution_count": 19,
     "metadata": {},
     "output_type": "execute_result"
    }
   ],
   "source": [
    "effect_size = sms.proportion_effectsize(0.03, 0.05)\n",
    "effect_size"
   ]
  },
  {
   "cell_type": "code",
   "execution_count": 20,
   "metadata": {},
   "outputs": [
    {
     "name": "stdout",
     "output_type": "stream",
     "text": [
      "There are 1237 observations in each group to be 80% confident that there is a 2% difference between the two groups.\n"
     ]
    }
   ],
   "source": [
    "required_observations = sms.NormalIndPower().solve_power(\n",
    "    effect_size, \n",
    "    power = 0.8, \n",
    "    alpha = 0.05, \n",
    "    ratio=1.5  # This provides the ratio of the number values in sample 2 to those in sample 1. The 40:60 ratio would be 1.5, as 60 is 1.5 times the control \n",
    ")\n",
    "\n",
    "# ceil is the ceiling function; it rounds up to the next whole number\n",
    "required_observations = ceil(required_observations)\n",
    "print(f'There are {required_observations} observations in each group to be 80% confident that there is a 2% difference between the two groups.')\n"
   ]
  },
  {
   "attachments": {},
   "cell_type": "markdown",
   "metadata": {},
   "source": [
    "Since the smaller of our groups has nearly 8000 observations, we have more than enough data to work with in assessing this kind of change. \n",
    "\n",
    "---\n",
    "## Data Exploration and Cleaning\n",
    "\n",
    " "
   ]
  },
  {
   "cell_type": "code",
   "execution_count": 3,
   "metadata": {},
   "outputs": [
    {
     "data": {
      "text/html": [
       "<div>\n",
       "<style scoped>\n",
       "    .dataframe tbody tr th:only-of-type {\n",
       "        vertical-align: middle;\n",
       "    }\n",
       "\n",
       "    .dataframe tbody tr th {\n",
       "        vertical-align: top;\n",
       "    }\n",
       "\n",
       "    .dataframe thead th {\n",
       "        text-align: right;\n",
       "    }\n",
       "</style>\n",
       "<table border=\"1\" class=\"dataframe\">\n",
       "  <thead>\n",
       "    <tr style=\"text-align: right;\">\n",
       "      <th></th>\n",
       "      <th>test group</th>\n",
       "      <th>made_purchase</th>\n",
       "      <th>days_with_most_add</th>\n",
       "      <th>peak ad hours</th>\n",
       "      <th>ad_count</th>\n",
       "    </tr>\n",
       "    <tr>\n",
       "      <th>customerID</th>\n",
       "      <th></th>\n",
       "      <th></th>\n",
       "      <th></th>\n",
       "      <th></th>\n",
       "      <th></th>\n",
       "    </tr>\n",
       "  </thead>\n",
       "  <tbody>\n",
       "    <tr>\n",
       "      <th>1</th>\n",
       "      <td>ad</td>\n",
       "      <td>False</td>\n",
       "      <td>24</td>\n",
       "      <td>20</td>\n",
       "      <td>5</td>\n",
       "    </tr>\n",
       "    <tr>\n",
       "      <th>2</th>\n",
       "      <td>psa</td>\n",
       "      <td>False</td>\n",
       "      <td>21</td>\n",
       "      <td>16</td>\n",
       "      <td>9</td>\n",
       "    </tr>\n",
       "    <tr>\n",
       "      <th>3</th>\n",
       "      <td>psa</td>\n",
       "      <td>False</td>\n",
       "      <td>1</td>\n",
       "      <td>18</td>\n",
       "      <td>8</td>\n",
       "    </tr>\n",
       "    <tr>\n",
       "      <th>4</th>\n",
       "      <td>ad</td>\n",
       "      <td>False</td>\n",
       "      <td>20</td>\n",
       "      <td>23</td>\n",
       "      <td>7</td>\n",
       "    </tr>\n",
       "    <tr>\n",
       "      <th>5</th>\n",
       "      <td>ad</td>\n",
       "      <td>False</td>\n",
       "      <td>3</td>\n",
       "      <td>13</td>\n",
       "      <td>5</td>\n",
       "    </tr>\n",
       "  </tbody>\n",
       "</table>\n",
       "</div>"
      ],
      "text/plain": [
       "           test group  made_purchase  days_with_most_add  peak ad hours  \\\n",
       "customerID                                                                \n",
       "1                  ad          False                  24             20   \n",
       "2                 psa          False                  21             16   \n",
       "3                 psa          False                   1             18   \n",
       "4                  ad          False                  20             23   \n",
       "5                  ad          False                   3             13   \n",
       "\n",
       "            ad_count  \n",
       "customerID            \n",
       "1                  5  \n",
       "2                  9  \n",
       "3                  8  \n",
       "4                  7  \n",
       "5                  5  "
      ]
     },
     "execution_count": 3,
     "metadata": {},
     "output_type": "execute_result"
    }
   ],
   "source": [
    "ab = pd.read_csv('online_ad_AB.csv', index_col=0)\n",
    "ab.head()"
   ]
  },
  {
   "cell_type": "markdown",
   "metadata": {},
   "source": []
  },
  {
   "cell_type": "code",
   "execution_count": null,
   "metadata": {},
   "outputs": [],
   "source": []
  },
  {
   "cell_type": "code",
   "execution_count": 7,
   "metadata": {},
   "outputs": [],
   "source": [
    "control_sample = ab[ab['test group'] == 'psa'].sample(\n",
    "    n=1000, random_state=random_state)\n",
    "\n",
    "treatment_sample = ab[ab['test group'] == 'ad'].sample(\n",
    "    n=1000, random_state=random_state)\n",
    "\n",
    "ab_sampled = pd.concat([control_sample, treatment_sample], axis=0)\n",
    "ab_sampled.reset_index(drop=True, inplace=True)"
   ]
  },
  {
   "cell_type": "code",
   "execution_count": 9,
   "metadata": {},
   "outputs": [
    {
     "data": {
      "text/html": [
       "<style type=\"text/css\">\n",
       "</style>\n",
       "<table id=\"T_ae4cd\">\n",
       "  <thead>\n",
       "    <tr>\n",
       "      <th class=\"blank level0\" >&nbsp;</th>\n",
       "      <th id=\"T_ae4cd_level0_col0\" class=\"col_heading level0 col0\" >conversion_rate</th>\n",
       "      <th id=\"T_ae4cd_level0_col1\" class=\"col_heading level0 col1\" >std_deviation</th>\n",
       "      <th id=\"T_ae4cd_level0_col2\" class=\"col_heading level0 col2\" >std_error</th>\n",
       "    </tr>\n",
       "    <tr>\n",
       "      <th class=\"index_name level0\" >test group</th>\n",
       "      <th class=\"blank col0\" >&nbsp;</th>\n",
       "      <th class=\"blank col1\" >&nbsp;</th>\n",
       "      <th class=\"blank col2\" >&nbsp;</th>\n",
       "    </tr>\n",
       "  </thead>\n",
       "  <tbody>\n",
       "    <tr>\n",
       "      <th id=\"T_ae4cd_level0_row0\" class=\"row_heading level0 row0\" >ad</th>\n",
       "      <td id=\"T_ae4cd_row0_col0\" class=\"data row0 col0\" >0.058</td>\n",
       "      <td id=\"T_ae4cd_row0_col1\" class=\"data row0 col1\" >0.234</td>\n",
       "      <td id=\"T_ae4cd_row0_col2\" class=\"data row0 col2\" >0.007</td>\n",
       "    </tr>\n",
       "    <tr>\n",
       "      <th id=\"T_ae4cd_level0_row1\" class=\"row_heading level0 row1\" >psa</th>\n",
       "      <td id=\"T_ae4cd_row1_col0\" class=\"data row1 col0\" >0.037</td>\n",
       "      <td id=\"T_ae4cd_row1_col1\" class=\"data row1 col1\" >0.189</td>\n",
       "      <td id=\"T_ae4cd_row1_col2\" class=\"data row1 col2\" >0.006</td>\n",
       "    </tr>\n",
       "  </tbody>\n",
       "</table>\n"
      ],
      "text/plain": [
       "<pandas.io.formats.style.Styler at 0x218063dd520>"
      ]
     },
     "execution_count": 9,
     "metadata": {},
     "output_type": "execute_result"
    }
   ],
   "source": [
    "conversion_rates = ab_sampled.groupby('test group')['made_purchase']\n",
    "\n",
    "# Std. deviation of the proportion\n",
    "def std_p(x): return np.std(x, ddof=0)\n",
    "# Std. error of the proportion (std / sqrt(n))\n",
    "def se_p(x): return stats.sem(x, ddof=0)\n",
    "\n",
    "\n",
    "conversion_rates = conversion_rates.agg([np.mean, std_p, se_p])\n",
    "conversion_rates.columns = ['conversion_rate', 'std_deviation', 'std_error']\n",
    "\n",
    "conversion_rates.style.format('{:.3f}')\n"
   ]
  },
  {
   "attachments": {},
   "cell_type": "markdown",
   "metadata": {},
   "source": [
    "## "
   ]
  }
 ],
 "metadata": {
  "kernelspec": {
   "display_name": "PythonData",
   "language": "python",
   "name": "python3"
  },
  "language_info": {
   "codemirror_mode": {
    "name": "ipython",
    "version": 3
   },
   "file_extension": ".py",
   "mimetype": "text/x-python",
   "name": "python",
   "nbconvert_exporter": "python",
   "pygments_lexer": "ipython3",
   "version": "3.9.12"
  },
  "orig_nbformat": 4
 },
 "nbformat": 4,
 "nbformat_minor": 2
}

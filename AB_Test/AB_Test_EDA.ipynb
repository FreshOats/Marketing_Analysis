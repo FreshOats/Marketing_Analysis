{
 "cells": [
  {
   "attachments": {},
   "cell_type": "markdown",
   "metadata": {},
   "source": [
    "# AB Testing EDA\n",
    "\n",
    "This dataset comes from https://www.kaggle.com/datasets/farhadzeynalli/online-advertising-effectiveness-study-ab-testing\n",
    "\n",
    "by Farhad Zeynalli\n",
    "\n",
    "**Information provided by Source**\n",
    "A large company with a substantial user base plans to increase sales through advertisement on its website. However, they are still undecided about whether the ads increase sales or not. In order to determine whether this is the case, 20000 customers were subjected to A/B testing for 31 days.\n",
    "\n",
    "**Columns** \n",
    "CustomerID: Unique identifier \n",
    "Test Group: composed of 60% Ad and 40% PSA\n",
    "Made_purchase: boolean regarding made purchase/conversion\n",
    "Days_with_most_add: Day of the month when the user saw the most ads\n",
    "Peak ad hours: hour of the day when the user saw the most ads\n",
    "Ad_count: total number of ads seen by each user\n"
   ]
  },
  {
   "cell_type": "code",
   "execution_count": 1,
   "metadata": {},
   "outputs": [],
   "source": [
    "import pandas as pd\n",
    "from matplotlib import pyplot as plt"
   ]
  },
  {
   "cell_type": "code",
   "execution_count": 5,
   "metadata": {},
   "outputs": [
    {
     "data": {
      "text/html": [
       "<div>\n",
       "<style scoped>\n",
       "    .dataframe tbody tr th:only-of-type {\n",
       "        vertical-align: middle;\n",
       "    }\n",
       "\n",
       "    .dataframe tbody tr th {\n",
       "        vertical-align: top;\n",
       "    }\n",
       "\n",
       "    .dataframe thead th {\n",
       "        text-align: right;\n",
       "    }\n",
       "</style>\n",
       "<table border=\"1\" class=\"dataframe\">\n",
       "  <thead>\n",
       "    <tr style=\"text-align: right;\">\n",
       "      <th></th>\n",
       "      <th>customerID</th>\n",
       "      <th>test group</th>\n",
       "      <th>made_purchase</th>\n",
       "      <th>days_with_most_add</th>\n",
       "      <th>peak ad hours</th>\n",
       "      <th>ad_count</th>\n",
       "    </tr>\n",
       "  </thead>\n",
       "  <tbody>\n",
       "    <tr>\n",
       "      <th>0</th>\n",
       "      <td>1</td>\n",
       "      <td>ad</td>\n",
       "      <td>False</td>\n",
       "      <td>24</td>\n",
       "      <td>20</td>\n",
       "      <td>5</td>\n",
       "    </tr>\n",
       "    <tr>\n",
       "      <th>1</th>\n",
       "      <td>2</td>\n",
       "      <td>psa</td>\n",
       "      <td>False</td>\n",
       "      <td>21</td>\n",
       "      <td>16</td>\n",
       "      <td>9</td>\n",
       "    </tr>\n",
       "    <tr>\n",
       "      <th>2</th>\n",
       "      <td>3</td>\n",
       "      <td>psa</td>\n",
       "      <td>False</td>\n",
       "      <td>1</td>\n",
       "      <td>18</td>\n",
       "      <td>8</td>\n",
       "    </tr>\n",
       "    <tr>\n",
       "      <th>3</th>\n",
       "      <td>4</td>\n",
       "      <td>ad</td>\n",
       "      <td>False</td>\n",
       "      <td>20</td>\n",
       "      <td>23</td>\n",
       "      <td>7</td>\n",
       "    </tr>\n",
       "    <tr>\n",
       "      <th>4</th>\n",
       "      <td>5</td>\n",
       "      <td>ad</td>\n",
       "      <td>False</td>\n",
       "      <td>3</td>\n",
       "      <td>13</td>\n",
       "      <td>5</td>\n",
       "    </tr>\n",
       "  </tbody>\n",
       "</table>\n",
       "</div>"
      ],
      "text/plain": [
       "   customerID test group  made_purchase  days_with_most_add  peak ad hours  \\\n",
       "0           1         ad          False                  24             20   \n",
       "1           2        psa          False                  21             16   \n",
       "2           3        psa          False                   1             18   \n",
       "3           4         ad          False                  20             23   \n",
       "4           5         ad          False                   3             13   \n",
       "\n",
       "   ad_count  \n",
       "0         5  \n",
       "1         9  \n",
       "2         8  \n",
       "3         7  \n",
       "4         5  "
      ]
     },
     "execution_count": 5,
     "metadata": {},
     "output_type": "execute_result"
    }
   ],
   "source": [
    "ab_df = pd.read_csv('online_ad_AB.csv')\n",
    "ab_df.head()"
   ]
  },
  {
   "attachments": {},
   "cell_type": "markdown",
   "metadata": {},
   "source": [
    "Just to see the size, what kinds of values we have for each of these, and whether we have any duplicates."
   ]
  },
  {
   "cell_type": "code",
   "execution_count": 9,
   "metadata": {},
   "outputs": [
    {
     "name": "stdout",
     "output_type": "stream",
     "text": [
      "The length of the dataframe is 20000\n"
     ]
    }
   ],
   "source": [
    "length = len(ab_df)\n",
    "print(f'The length of the dataframe is {length}')"
   ]
  },
  {
   "cell_type": "code",
   "execution_count": 10,
   "metadata": {},
   "outputs": [
    {
     "name": "stdout",
     "output_type": "stream",
     "text": [
      "If there are any True values, there would be duplicates present. Since there are no True values, and all 20000 are False, there are no duplicates in this dataset.\n"
     ]
    }
   ],
   "source": [
    "ab_df.duplicated().value_counts()\n",
    "print(f'If there are any True values, there would be duplicates present. Since there are no True values, and all {length} are False, there are no duplicates in this dataset.')"
   ]
  },
  {
   "cell_type": "code",
   "execution_count": 8,
   "metadata": {},
   "outputs": [
    {
     "data": {
      "text/plain": [
       "ad     12053\n",
       "psa     7947\n",
       "Name: test group, dtype: int64"
      ]
     },
     "execution_count": 8,
     "metadata": {},
     "output_type": "execute_result"
    }
   ],
   "source": [
    "ab_df['test group'].value_counts()"
   ]
  },
  {
   "cell_type": "code",
   "execution_count": 11,
   "metadata": {},
   "outputs": [
    {
     "data": {
      "text/plain": [
       "customerID            0\n",
       "test group            0\n",
       "made_purchase         0\n",
       "days_with_most_add    0\n",
       "peak ad hours         0\n",
       "ad_count              0\n",
       "dtype: int64"
      ]
     },
     "execution_count": 11,
     "metadata": {},
     "output_type": "execute_result"
    }
   ],
   "source": [
    "ab_df.isnull().sum()"
   ]
  },
  {
   "attachments": {},
   "cell_type": "markdown",
   "metadata": {},
   "source": [
    "The original description was that there was a 60:40 split in the data, which would be exactly 12000 and 8000. This is close, but not exactly. If we don't use all of the data and just take a random sample of defined size, we won't have to worry as much about this, but this will have to be considered when initially doing the Power Analysis. "
   ]
  },
  {
   "cell_type": "code",
   "execution_count": 30,
   "metadata": {},
   "outputs": [
    {
     "data": {
      "text/plain": [
       "(array([12053.,  7947.]),\n",
       " array([0. , 0.5, 1. ]),\n",
       " <BarContainer object of 2 artists>)"
      ]
     },
     "execution_count": 30,
     "metadata": {},
     "output_type": "execute_result"
    },
    {
     "data": {
      "image/png": "[encoded data removed]",
      "text/plain": [
       "<Figure size 432x288 with 1 Axes>"
      ]
     },
     "metadata": {
      "needs_background": "light"
     },
     "output_type": "display_data"
    }
   ],
   "source": [
    "plt.hist(ab_df['test group'], bins=2, rwidth=0.8)"
   ]
  },
  {
   "cell_type": "code",
   "execution_count": 9,
   "metadata": {},
   "outputs": [
    {
     "data": {
      "text/plain": [
       "False    18940\n",
       "True      1060\n",
       "Name: made_purchase, dtype: int64"
      ]
     },
     "execution_count": 9,
     "metadata": {},
     "output_type": "execute_result"
    }
   ],
   "source": [
    "ab_df['made_purchase'].value_counts()"
   ]
  },
  {
   "cell_type": "code",
   "execution_count": 10,
   "metadata": {},
   "outputs": [
    {
     "data": {
      "text/plain": [
       "22    709\n",
       "25    693\n",
       "13    690\n",
       "21    688\n",
       "19    682\n",
       "23    682\n",
       "6     681\n",
       "28    680\n",
       "24    678\n",
       "5     677\n",
       "2     677\n",
       "11    677\n",
       "27    676\n",
       "3     674\n",
       "17    671\n",
       "4     670\n",
       "18    665\n",
       "9     665\n",
       "30    663\n",
       "10    662\n",
       "16    659\n",
       "7     659\n",
       "12    655\n",
       "26    650\n",
       "14    650\n",
       "29    648\n",
       "8     642\n",
       "1     636\n",
       "20    627\n",
       "15    614\n",
       "Name: days_with_most_add, dtype: int64"
      ]
     },
     "execution_count": 10,
     "metadata": {},
     "output_type": "execute_result"
    }
   ],
   "source": [
    "ab_df['days_with_most_add'].value_counts()\n"
   ]
  },
  {
   "cell_type": "code",
   "execution_count": 28,
   "metadata": {},
   "outputs": [
    {
     "data": {
      "text/plain": [
       "(array([636., 677., 674., 670., 677., 681., 659., 642., 665., 662., 677.,\n",
       "        655., 690., 650., 614., 659., 671., 665., 682., 627., 688., 709.,\n",
       "        682., 678., 693., 650., 676., 680., 648., 663.]),\n",
       " array([ 1.        ,  1.96666667,  2.93333333,  3.9       ,  4.86666667,\n",
       "         5.83333333,  6.8       ,  7.76666667,  8.73333333,  9.7       ,\n",
       "        10.66666667, 11.63333333, 12.6       , 13.56666667, 14.53333333,\n",
       "        15.5       , 16.46666667, 17.43333333, 18.4       , 19.36666667,\n",
       "        20.33333333, 21.3       , 22.26666667, 23.23333333, 24.2       ,\n",
       "        25.16666667, 26.13333333, 27.1       , 28.06666667, 29.03333333,\n",
       "        30.        ]),\n",
       " <BarContainer object of 30 artists>)"
      ]
     },
     "execution_count": 28,
     "metadata": {},
     "output_type": "execute_result"
    },
    {
     "data": {
      "image/png": "[encoded data removed]",
      "text/plain": [
       "<Figure size 432x288 with 1 Axes>"
      ]
     },
     "metadata": {
      "needs_background": "light"
     },
     "output_type": "display_data"
    }
   ],
   "source": [
    "plt.hist(ab_df['days_with_most_add'], bins = 30, rwidth=0.8)\n"
   ]
  },
  {
   "cell_type": "code",
   "execution_count": 11,
   "metadata": {},
   "outputs": [
    {
     "data": {
      "text/plain": [
       "18    1749\n",
       "23    1724\n",
       "16    1690\n",
       "22    1654\n",
       "20    1653\n",
       "19    1649\n",
       "21    1641\n",
       "15    1635\n",
       "17    1605\n",
       "9      390\n",
       "0      380\n",
       "4      379\n",
       "11     368\n",
       "2      366\n",
       "8      358\n",
       "10     354\n",
       "7      352\n",
       "1      351\n",
       "13     344\n",
       "12     343\n",
       "3      342\n",
       "6      341\n",
       "5      332\n",
       "Name: peak ad hours, dtype: int64"
      ]
     },
     "execution_count": 11,
     "metadata": {},
     "output_type": "execute_result"
    }
   ],
   "source": [
    "ab_df['peak ad hours'].value_counts()\n"
   ]
  },
  {
   "cell_type": "code",
   "execution_count": 34,
   "metadata": {},
   "outputs": [
    {
     "data": {
      "text/plain": [
       "(array([ 380.,  351.,  366.,  342.,  379.,  332.,  341.,  352.,  358.,\n",
       "         390.,  354.,  368.,  343.,  344.,    0., 1635., 1690., 1605.,\n",
       "        1749., 1649., 1653., 1641., 1654., 1724.]),\n",
       " array([ 0.        ,  0.95833333,  1.91666667,  2.875     ,  3.83333333,\n",
       "         4.79166667,  5.75      ,  6.70833333,  7.66666667,  8.625     ,\n",
       "         9.58333333, 10.54166667, 11.5       , 12.45833333, 13.41666667,\n",
       "        14.375     , 15.33333333, 16.29166667, 17.25      , 18.20833333,\n",
       "        19.16666667, 20.125     , 21.08333333, 22.04166667, 23.        ]),\n",
       " <BarContainer object of 24 artists>)"
      ]
     },
     "execution_count": 34,
     "metadata": {},
     "output_type": "execute_result"
    },
    {
     "data": {
      "image/png": "[encoded data removed]",
      "text/plain": [
       "<Figure size 432x288 with 1 Axes>"
      ]
     },
     "metadata": {
      "needs_background": "light"
     },
     "output_type": "display_data"
    }
   ],
   "source": [
    "plt.hist(ab_df['peak ad hours'], bins=24, rwidth=0.8)\n"
   ]
  },
  {
   "cell_type": "code",
   "execution_count": 16,
   "metadata": {},
   "outputs": [
    {
     "name": "stdout",
     "output_type": "stream",
     "text": [
      "The minimum hour is 0, and the maximum hour is 23\n"
     ]
    }
   ],
   "source": [
    "print(\n",
    "    f'The minimum hour is {min(ab_df[\"peak ad hours\"])}, and the maximum hour is {max(ab_df[\"peak ad hours\"])}')\n"
   ]
  },
  {
   "cell_type": "code",
   "execution_count": 37,
   "metadata": {},
   "outputs": [
    {
     "data": {
      "text/plain": [
       "23"
      ]
     },
     "execution_count": 37,
     "metadata": {},
     "output_type": "execute_result"
    }
   ],
   "source": [
    "ab_df['peak ad hours'].nunique()"
   ]
  },
  {
   "attachments": {},
   "cell_type": "markdown",
   "metadata": {},
   "source": [
    "This indicates that midnight is the 0th hour and it runs through 11 pm as the 23rd hour. There are no additional hours that are anomalous. What is odd is that there are only 23 hours collected. There is no data collected at hour 14 - so apparently no ads were run from 2 to 3 pm. \n",
    "\n",
    "The majority of ads were run from 3 pm through 11 pm. Far fewer ads were run from midnight to 2 pm. "
   ]
  },
  {
   "cell_type": "code",
   "execution_count": 12,
   "metadata": {},
   "outputs": [
    {
     "data": {
      "text/plain": [
       "5     3423\n",
       "9     2612\n",
       "8     2601\n",
       "7     2469\n",
       "6     2455\n",
       "10    2439\n",
       "3     1015\n",
       "2     1005\n",
       "4      991\n",
       "1      990\n",
       "Name: ad_count, dtype: int64"
      ]
     },
     "execution_count": 12,
     "metadata": {},
     "output_type": "execute_result"
    }
   ],
   "source": [
    "ab_df['ad_count'].value_counts()\n"
   ]
  },
  {
   "cell_type": "code",
   "execution_count": 39,
   "metadata": {},
   "outputs": [
    {
     "name": "stdout",
     "output_type": "stream",
     "text": [
      "Each user saw at least 1 ad, and no more than 10 ads\n"
     ]
    }
   ],
   "source": [
    "print(\n",
    "    f'Each user saw at least {min(ab_df[\"ad_count\"])} ad, and no more than {max(ab_df[\"ad_count\"])} ads')\n"
   ]
  },
  {
   "cell_type": "code",
   "execution_count": 40,
   "metadata": {},
   "outputs": [
    {
     "data": {
      "text/plain": [
       "(array([ 990., 1005., 1015.,  991., 3423., 2455., 2469., 2601., 2612.,\n",
       "        2439.]),\n",
       " array([ 1. ,  1.9,  2.8,  3.7,  4.6,  5.5,  6.4,  7.3,  8.2,  9.1, 10. ]),\n",
       " <BarContainer object of 10 artists>)"
      ]
     },
     "execution_count": 40,
     "metadata": {},
     "output_type": "execute_result"
    },
    {
     "data": {
      "image/png": "[encoded data removed]",
      "text/plain": [
       "<Figure size 432x288 with 1 Axes>"
      ]
     },
     "metadata": {
      "needs_background": "light"
     },
     "output_type": "display_data"
    }
   ],
   "source": [
    "plt.hist(ab_df['ad_count'], bins=10, rwidth=0.8)\n"
   ]
  },
  {
   "cell_type": "code",
   "execution_count": 13,
   "metadata": {},
   "outputs": [
    {
     "data": {
      "text/plain": [
       "20000"
      ]
     },
     "execution_count": 13,
     "metadata": {},
     "output_type": "execute_result"
    }
   ],
   "source": [
    "len(ab_df)"
   ]
  },
  {
   "attachments": {},
   "cell_type": "markdown",
   "metadata": {},
   "source": [
    "## Tests and Targets\n",
    "Target: Made Purchase binary\n",
    "Test A: PSA\n",
    "Test B: Ad\n"
   ]
  }
 ],
 "metadata": {
  "kernelspec": {
   "display_name": "PythonData",
   "language": "python",
   "name": "python3"
  },
  "language_info": {
   "codemirror_mode": {
    "name": "ipython",
    "version": 3
   },
   "file_extension": ".py",
   "mimetype": "text/x-python",
   "name": "python",
   "nbconvert_exporter": "python",
   "pygments_lexer": "ipython3",
   "version": "3.9.12"
  },
  "orig_nbformat": 4
 },
 "nbformat": 4,
 "nbformat_minor": 2
}
